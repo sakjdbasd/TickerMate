{
 "cells": [
  {
   "cell_type": "code",
   "execution_count": 2,
   "metadata": {},
   "outputs": [],
   "source": [
    "from datetime import datetime,timedelta, timezone"
   ]
  },
  {
   "cell_type": "code",
   "execution_count": 18,
   "metadata": {},
   "outputs": [],
   "source": [
    "now = datetime.now(timezone.utc)\n",
    "today = now - timedelta(hours=2)"
   ]
  },
  {
   "cell_type": "code",
   "execution_count": 19,
   "metadata": {},
   "outputs": [
    {
     "data": {
      "text/plain": [
       "'2025-04-25T04:46:00'"
      ]
     },
     "execution_count": 19,
     "metadata": {},
     "output_type": "execute_result"
    }
   ],
   "source": [
    "today.strftime('%Y-%m-%dT%H:%M:%S')"
   ]
  },
  {
   "cell_type": "code",
   "execution_count": 12,
   "metadata": {},
   "outputs": [
    {
     "data": {
      "text/plain": [
       "datetime.datetime(2025, 4, 25, 6, 44, 12, 240901, tzinfo=datetime.timezone.utc)"
      ]
     },
     "execution_count": 12,
     "metadata": {},
     "output_type": "execute_result"
    }
   ],
   "source": [
    "now"
   ]
  },
  {
   "cell_type": "code",
   "execution_count": 13,
   "metadata": {},
   "outputs": [
    {
     "data": {
      "text/plain": [
       "'2025-04-25T06:44:12'"
      ]
     },
     "execution_count": 13,
     "metadata": {},
     "output_type": "execute_result"
    }
   ],
   "source": [
    "now = now.strftime('%Y-%m-%dT%H:%M:%S')\n",
    "now"
   ]
  },
  {
   "cell_type": "code",
   "execution_count": 28,
   "metadata": {},
   "outputs": [],
   "source": [
    "def get_time_diff(publish_at_str):\n",
    "    try:\n",
    "        publish_at = datetime.strptime(publish_at_str,\"%Y-%m-%dT%H:%M:%SZ\")\n",
    "        publish_at = publish_at.replace(tzinfo = timezone.utc)\n",
    "        now = datetime.now(timezone.utc)\n",
    "        diff = now - publish_at\n",
    "\n",
    "        minutes = diff.total_seconds() // 60\n",
    "        hours = diff.total_seconds() // 3600\n",
    "        days = diff.total_seconds() // (3600*24)\n",
    "\n",
    "        if minutes < 1:\n",
    "            return \"Just now\"\n",
    "        elif minutes < 60:\n",
    "            return f\"{int(minutes)}m ago\"\n",
    "        elif hours < 24:\n",
    "            return f\"{int(hours)}h ago\"\n",
    "        elif days < 7:\n",
    "            return f\"{int(days)}d ago\"\n",
    "        else:\n",
    "            return publish_at.strftime(\"%Y-%m-%d\")\n",
    "    except:\n",
    "        return \"Unknown Time\""
   ]
  },
  {
   "cell_type": "code",
   "execution_count": 22,
   "metadata": {},
   "outputs": [],
   "source": [
    "publish_at_str = '2025-04-25T03:26:23.000000Z'"
   ]
  },
  {
   "cell_type": "code",
   "execution_count": 26,
   "metadata": {},
   "outputs": [],
   "source": [
    "publish_at = datetime.strptime(publish_at_str,\"%Y-%m-%dT%H:%M:%S.%fZ\")\n",
    "publish_at = publish_at.replace(tzinfo = timezone.utc)"
   ]
  },
  {
   "cell_type": "code",
   "execution_count": 29,
   "metadata": {},
   "outputs": [
    {
     "data": {
      "text/plain": [
       "'3h ago'"
      ]
     },
     "execution_count": 29,
     "metadata": {},
     "output_type": "execute_result"
    }
   ],
   "source": [
    "get_time_diff(publish_at_str)"
   ]
  }
 ],
 "metadata": {
  "kernelspec": {
   "display_name": "Python 3.13.2 64-bit",
   "language": "python",
   "name": "python3"
  },
  "language_info": {
   "codemirror_mode": {
    "name": "ipython",
    "version": 3
   },
   "file_extension": ".py",
   "mimetype": "text/x-python",
   "name": "python",
   "nbconvert_exporter": "python",
   "pygments_lexer": "ipython3",
   "version": "3.13.2"
  },
  "orig_nbformat": 4,
  "vscode": {
   "interpreter": {
    "hash": "4f1b418678da2d7cdd4fdadf4d9d48ce4e8facee73403ab1d11d992a77248240"
   }
  }
 },
 "nbformat": 4,
 "nbformat_minor": 2
}
